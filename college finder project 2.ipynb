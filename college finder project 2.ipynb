{
 "cells": [
  {
   "cell_type": "code",
   "execution_count": 3,
   "id": "53074547",
   "metadata": {},
   "outputs": [
    {
     "name": "stdout",
     "output_type": "stream",
     "text": [
      "right\n"
     ]
    }
   ],
   "source": [
    "b=2\n",
    "if(b==1):\n",
    "    print(\"we cant compare\")\n",
    "else:\n",
    "    print(\"right\")"
   ]
  },
  {
   "cell_type": "code",
   "execution_count": 5,
   "id": "cb3f72ca",
   "metadata": {},
   "outputs": [
    {
     "name": "stdout",
     "output_type": "stream",
     "text": [
      "right number enter\n"
     ]
    }
   ],
   "source": [
    "a=18\n",
    "if(a==7):\n",
    "    print(\"no\")\n",
    "elif(a==18):\n",
    "    print(\"right number enter\")\n",
    "else:\n",
    "    print(\"yes\")"
   ]
  },
  {
   "cell_type": "code",
   "execution_count": 9,
   "id": "1a3f377f",
   "metadata": {},
   "outputs": [],
   "source": [
    "a=5\n",
    "b=10\n",
    "if(a>=b):\n",
    "    print(\"{a} is great than {b}\".format(a,b))\n",
    "    "
   ]
  },
  {
   "cell_type": "code",
   "execution_count": 17,
   "id": "cd4dff16",
   "metadata": {},
   "outputs": [
    {
     "name": "stdout",
     "output_type": "stream",
     "text": [
      "Enter either rock,paper,scissorpaper\n",
      "Enter either rock,paper,scissorrock\n",
      "rock can smash paper \n",
      " winner is player2\n"
     ]
    }
   ],
   "source": [
    "player1 = str(input(\"Enter either rock,paper,scissor\"))\n",
    "player2 = str(input(\"Enter either rock,paper,scissor\"))\n",
    "if (player1==\"rock\" and player2==\"rock\"):\n",
    "    print(\"match is drawn and try again\")\n",
    "elif(player1==\"rock\" and player2==\"paper\"):\n",
    "    print(\"rock can smash paper \"\"\\n winner is player1\")\n",
    "elif(player1==\"rock\" and player2==\"scissor\"):\n",
    "    print(\"rock can smash scissor \"\"\\n winner is player1\")\n",
    "elif(player1==\"paper\" and player2==\"rock\"):\n",
    "    print(\"rock can smash paper \"\"\\n winner is player2\")\n",
    "elif(player1==\"paper\" and player2==\"paper\"):\n",
    "    print(\"match is draw\"\"\\n try again\" )\n",
    "elif(player1==\"paper\" and player2==\"scissior\"):\n",
    "    print(\"scissor can cut paper ,\"\"\\n winner is player2\")\n",
    "elif(player1==\"scissor\" and player2==\"rock\"):\n",
    "    print(\"stone can beat scissor \"\"\\n winner is player2\")\n",
    "elif(player1==\"scissor\" and player2==\"paper\"):\n",
    "    print(\"scissor can cut paper \"\"\\n winenr is player1\")\n",
    "elif(player1==\"scissor\" and player2==\"scissor\"):\n",
    "    print(\"match is draw\"\"\\n try again\")\n",
    "else:\n",
    "    print(\"enter mentioned words don't enter other words\")"
   ]
  },
  {
   "cell_type": "code",
   "execution_count": null,
   "id": "8a696c56",
   "metadata": {},
   "outputs": [],
   "source": []
  },
  {
   "cell_type": "code",
   "execution_count": null,
   "id": "bf607964",
   "metadata": {},
   "outputs": [],
   "source": []
  }
 ],
 "metadata": {
  "kernelspec": {
   "display_name": "Python 3 (ipykernel)",
   "language": "python",
   "name": "python3"
  },
  "language_info": {
   "codemirror_mode": {
    "name": "ipython",
    "version": 3
   },
   "file_extension": ".py",
   "mimetype": "text/x-python",
   "name": "python",
   "nbconvert_exporter": "python",
   "pygments_lexer": "ipython3",
   "version": "3.9.7"
  }
 },
 "nbformat": 4,
 "nbformat_minor": 5
}
