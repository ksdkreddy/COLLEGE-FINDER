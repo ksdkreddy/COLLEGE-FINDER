{
 "cells": [
  {
   "cell_type": "code",
   "execution_count": 4,
   "id": "944a5d0f",
   "metadata": {},
   "outputs": [
    {
     "name": "stdout",
     "output_type": "stream",
     "text": [
      "multiplication table\n",
      " Enter the number \n",
      "5\n",
      "5  x  1  =  5\n",
      "5  x  2  =  10\n",
      "5  x  3  =  15\n",
      "5  x  4  =  20\n",
      "5  x  5  =  25\n",
      "5  x  6  =  30\n",
      "5  x  7  =  35\n",
      "5  x  8  =  40\n",
      "5  x  9  =  45\n",
      "5  x  10  =  50\n"
     ]
    }
   ],
   "source": [
    "print(\"multiplication table\")\n",
    "number = int(input(\" Enter the number \\n\"))\n",
    "multiple = 1\n",
    "while(multiple<=10):\n",
    "    print(number,\" x \", multiple, \" = \", multiple*number)\n",
    "    multiple=multiple+1\n"
   ]
  },
  {
   "cell_type": "code",
   "execution_count": 6,
   "id": "ab27c883",
   "metadata": {},
   "outputs": [
    {
     "name": "stdout",
     "output_type": "stream",
     "text": [
      "enter the num1:5\n",
      "enter the num2:8\n",
      "enter the operator:.\n",
      "invalid entry\n"
     ]
    }
   ],
   "source": [
    "def add(num1,num2):\n",
    "    result=num1+num2\n",
    "    print(\"result:\",num1,op,num2,\"=\",result)\n",
    "def sub(num1,num2):\n",
    "    result=num2-num1\n",
    "    print(\"result:\",num1,op,num2,\"=\",result)\n",
    "def mul(num1,num2):\n",
    "    result=num1*num2\n",
    "    print(\"result:\",num1,op,num2,\"=\",result)\n",
    "def div(num1,num2):\n",
    "    result=num2/num1\n",
    "    print(\"result:\",num1,op,num2,\"=\",result)\n",
    "num1=int(input(\"enter the num1:\"))\n",
    "num2=int(input(\"enter the num2:\"))\n",
    "op=input(\"enter the operator:\")\n",
    "\n",
    "if op==\"+\":\n",
    "    print (\"addition:\",num1,op,num2,\"=\",num1+num2)\n",
    "elif op==\"-\":\n",
    "    print (\"substraction:\",num1,op,num2,\"=\",num1-num2)\n",
    "elif op==\"*\":\n",
    "    print(\"multiplication:\",num1,op,num2,\"=\",num1*num2)\n",
    "elif op==\"/\":\n",
    "    print(\"division\",num1,op,num2,\"=\",num1/num2)\n",
    "else:\n",
    "    print(\"invalid entry\")\n"
   ]
  },
  {
   "cell_type": "code",
   "execution_count": null,
   "id": "bdd529de",
   "metadata": {},
   "outputs": [],
   "source": []
  },
  {
   "cell_type": "code",
   "execution_count": null,
   "id": "618af7e4",
   "metadata": {},
   "outputs": [],
   "source": []
  },
  {
   "cell_type": "code",
   "execution_count": null,
   "id": "b80bed66",
   "metadata": {},
   "outputs": [],
   "source": []
  }
 ],
 "metadata": {
  "kernelspec": {
   "display_name": "Python 3 (ipykernel)",
   "language": "python",
   "name": "python3"
  },
  "language_info": {
   "codemirror_mode": {
    "name": "ipython",
    "version": 3
   },
   "file_extension": ".py",
   "mimetype": "text/x-python",
   "name": "python",
   "nbconvert_exporter": "python",
   "pygments_lexer": "ipython3",
   "version": "3.9.7"
  }
 },
 "nbformat": 4,
 "nbformat_minor": 5
}
