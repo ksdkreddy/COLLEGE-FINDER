{
 "cells": [
  {
   "cell_type": "markdown",
   "id": "2f3423f6",
   "metadata": {},
   "source": [
    "# College finder project 1\n",
    "# student portfolio"
   ]
  },
  {
   "cell_type": "code",
   "execution_count": 3,
   "id": "8cfbff06",
   "metadata": {},
   "outputs": [
    {
     "name": "stdout",
     "output_type": "stream",
     "text": [
      "Student Portfolio\n",
      "***************\n",
      "\n",
      "Enter your name: sai\n",
      "Enter class: X\n",
      "Enter section: A\n",
      "Enter Roll no.: 18\n"
     ]
    }
   ],
   "source": [
    "print(\"Student Portfolio\")\n",
    "print(\"*\"*15+\"\\n\")\n",
    "name = input(\"Enter your name: \")\n",
    "standard = input(\"Enter class: \")\n",
    "section = input(\"Enter section: \")\n",
    "rollno = int(input(\"Enter Roll no.: \"))"
   ]
  },
  {
   "cell_type": "code",
   "execution_count": 6,
   "id": "71271b80",
   "metadata": {},
   "outputs": [
    {
     "name": "stdout",
     "output_type": "stream",
     "text": [
      "Score details\n",
      "Enter English marks (out of 100): 85\n",
      "Enter Science marks (out of 100): 90\n",
      "Enter Mathematics marks (out of 100): 95\n",
      "score is 90.0\n"
     ]
    }
   ],
   "source": [
    "print(\"Score details\")\n",
    "subject1 = int(input(\"Enter English marks (out of 100): \"))\n",
    "subject2 = int(input(\"Enter Science marks (out of 100): \"))\n",
    "subject3 = int(input(\"Enter Mathematics marks (out of 100): \"))\n",
    "score = (subject1 + subject2 + subject3)/3\n",
    "print(\"score is\", score)"
   ]
  },
  {
   "cell_type": "code",
   "execution_count": 9,
   "id": "f1ca51d2",
   "metadata": {},
   "outputs": [
    {
     "name": "stdout",
     "output_type": "stream",
     "text": [
      "Student Details\n",
      "***************\n",
      "\n",
      "Name: sai\n",
      "Standard: X\n",
      "Section: A\n",
      "Roll number: 18\n",
      "English Marks: 85\n",
      "Science Marks: 90\n",
      "Mathematics Marks: 95\n",
      "Percentage: 90.0%\n"
     ]
    }
   ],
   "source": [
    "print(\"Student Details\")\n",
    "print(\"*\"*15+\"\\n\")\n",
    "print(\"Name: \" + name)\n",
    "print(\"Standard: \" + standard)\n",
    "print(\"Section: \" + section)\n",
    "print( \"Roll number: \" + str(rollno))\n",
    "print(\"English Marks: \" + str(subject1))\n",
    "print(\"Science Marks: \" + str(subject2))\n",
    "print( \"Mathematics Marks: \" + str(subject3))\n",
    "print(\"Percentage: \" + str(round(score,2)) + \"%\")"
   ]
  },
  {
   "cell_type": "code",
   "execution_count": null,
   "id": "872fa169",
   "metadata": {},
   "outputs": [],
   "source": []
  },
  {
   "cell_type": "code",
   "execution_count": null,
   "id": "4b5d8ea9",
   "metadata": {},
   "outputs": [],
   "source": []
  },
  {
   "cell_type": "code",
   "execution_count": null,
   "id": "34e0a8b1",
   "metadata": {},
   "outputs": [],
   "source": []
  },
  {
   "cell_type": "code",
   "execution_count": null,
   "id": "d011ed27",
   "metadata": {},
   "outputs": [],
   "source": []
  },
  {
   "cell_type": "code",
   "execution_count": null,
   "id": "11e9a174",
   "metadata": {},
   "outputs": [],
   "source": []
  },
  {
   "cell_type": "code",
   "execution_count": null,
   "id": "d1bc0d63",
   "metadata": {},
   "outputs": [],
   "source": []
  },
  {
   "cell_type": "code",
   "execution_count": null,
   "id": "790e6065",
   "metadata": {},
   "outputs": [],
   "source": []
  },
  {
   "cell_type": "code",
   "execution_count": null,
   "id": "c464a70e",
   "metadata": {},
   "outputs": [],
   "source": []
  },
  {
   "cell_type": "code",
   "execution_count": null,
   "id": "8ffd62cf",
   "metadata": {},
   "outputs": [],
   "source": []
  },
  {
   "cell_type": "code",
   "execution_count": null,
   "id": "2f1e1e01",
   "metadata": {},
   "outputs": [],
   "source": []
  },
  {
   "cell_type": "code",
   "execution_count": null,
   "id": "631a2460",
   "metadata": {},
   "outputs": [],
   "source": []
  },
  {
   "cell_type": "code",
   "execution_count": null,
   "id": "a6e82688",
   "metadata": {},
   "outputs": [],
   "source": []
  },
  {
   "cell_type": "code",
   "execution_count": null,
   "id": "22297839",
   "metadata": {},
   "outputs": [],
   "source": []
  },
  {
   "cell_type": "code",
   "execution_count": null,
   "id": "2fcb90f7",
   "metadata": {},
   "outputs": [],
   "source": []
  }
 ],
 "metadata": {
  "kernelspec": {
   "display_name": "Python 3 (ipykernel)",
   "language": "python",
   "name": "python3"
  },
  "language_info": {
   "codemirror_mode": {
    "name": "ipython",
    "version": 3
   },
   "file_extension": ".py",
   "mimetype": "text/x-python",
   "name": "python",
   "nbconvert_exporter": "python",
   "pygments_lexer": "ipython3",
   "version": "3.9.7"
  }
 },
 "nbformat": 4,
 "nbformat_minor": 5
}
